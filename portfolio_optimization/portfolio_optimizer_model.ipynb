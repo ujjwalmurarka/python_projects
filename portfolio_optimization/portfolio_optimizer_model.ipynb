{
 "cells": [
  {
   "cell_type": "markdown",
   "id": "ee1e46a6",
   "metadata": {},
   "source": [
    "# Portfolio Optimization Using Python\n",
    "\n",
    "We will build two functions: \n",
    "1. Mean variance optimization\n",
    "2. Min variance portfolio"
   ]
  },
  {
   "cell_type": "markdown",
   "id": "7c8007e5",
   "metadata": {},
   "source": [
    "### Setup"
   ]
  },
  {
   "cell_type": "code",
   "execution_count": 1,
   "id": "3769dfab",
   "metadata": {},
   "outputs": [],
   "source": [
    "# importing all relevant packages and modules\n",
    "import numpy as np"
   ]
  },
  {
   "cell_type": "markdown",
   "id": "866971b0",
   "metadata": {},
   "source": [
    "### Generating the data set"
   ]
  },
  {
   "cell_type": "code",
   "execution_count": 33,
   "id": "cf974ff4",
   "metadata": {},
   "outputs": [],
   "source": [
    "# Risk free rate\n",
    "rf_rate = 0.03"
   ]
  },
  {
   "cell_type": "code",
   "execution_count": 3,
   "id": "2fa7f5ca",
   "metadata": {},
   "outputs": [],
   "source": [
    "# Creating an expected return matrix with shape (1,4)\n",
    "expected_return = np.array([[0.13, 0.06, 0.15, 0.07]])"
   ]
  },
  {
   "cell_type": "code",
   "execution_count": 4,
   "id": "6972ea22",
   "metadata": {},
   "outputs": [],
   "source": [
    "# Creating a covariance matrix with shape (4,4)\n",
    "covariance_matrix = np.array([[0.053, 0.009, 0.040, 0.004],\n",
    "                              [0.009, 0.017, 0.004, 0.009],\n",
    "                              [0.040, 0.004, 0.084, 0.010],\n",
    "                              [0.004, 0.009, 0.010, 0.032]\n",
    "                             ])"
   ]
  },
  {
   "cell_type": "markdown",
   "id": "8b977ea4",
   "metadata": {},
   "source": [
    "### Mean variance optimizer"
   ]
  },
  {
   "cell_type": "code",
   "execution_count": 5,
   "id": "a0631602",
   "metadata": {},
   "outputs": [],
   "source": [
    "def mean_variance_optimizer(returns, rf_rate, cov):\n",
    "    \n",
    "    \"\"\"\n",
    "    returns should be a numpy array with shape (1, number of stocks)\n",
    "    rf_rate should be a float\n",
    "    cov should be a numpy array with shape (number of stocks, number of stocks)\n",
    "    \"\"\"\n",
    "    \n",
    "    # Setup\n",
    "    from scipy.optimize import minimize, Bounds\n",
    "    \n",
    "    # Creating a starting portfolio weight with n_col = 1 and n_row = number of stocks\n",
    "    wt = np.ones((returns.shape[1],1))*(1.0/returns.shape[1])\n",
    "    \n",
    "    # Defining the objective function for the minimization optimization \n",
    "    def obj_func_mean_variance(wt, returns, rf_rate, cov):\n",
    "        wt_ret = returns@wt - rf_rate\n",
    "        std_dev = (wt.T@cov@wt)**0.5\n",
    "        sharpe_ratio = wt_ret/std_dev\n",
    "        return -sharpe_ratio\n",
    "    \n",
    "    # Setting variable bounds between 0 and 1 i.e. the optimizer doesnt account for shorting or leveraging\n",
    "    var_bounds = Bounds(0,1)\n",
    "    \n",
    "    # Setting sum of portfolio weights to 1\n",
    "    var_constraints = {'type':'eq',\n",
    "                       'fun': lambda wt: 1.0 - np.sum(wt)\n",
    "                      }\n",
    "    \n",
    "    # calling the minizime function from the scipy package\n",
    "    mean_variance = minimize(obj_func_mean_variance,\n",
    "                             wt,\n",
    "                             args=(returns, rf_rate, cov),\n",
    "                             bounds=var_bounds,\n",
    "                             constraints=var_constraints\n",
    "                            )\n",
    "    \n",
    "    optimal_sharpe_ratio = -mean_variance.fun\n",
    "    optimal_port_wt = np.array([mean_variance.x])\n",
    "    optimal_expected_return = optimal_port_wt@returns.T\n",
    "    optimal_std_dev = (optimal_port_wt@cov@optimal_port_wt.T)**0.5\n",
    "    \n",
    "    print('The optimal weights of the portfolio are:')\n",
    "    print(['{:.2%}'.format(i) for i in optimal_port_wt[0]])\n",
    "    print('Optimal expected return is {:.2%}'.format(optimal_expected_return[0,0]))\n",
    "    print('Optimal std dev is {:.2f}'.format(optimal_std_dev[0,0]))\n",
    "    print('Optimal sharpe ratio is {:.2f}'.format(optimal_sharpe_ratio[0]))\n",
    "    \n",
    "    return optimal_port_wt, optimal_expected_return, optimal_std_dev, optimal_sharpe_ratio"
   ]
  },
  {
   "cell_type": "markdown",
   "id": "e35b26b0",
   "metadata": {},
   "source": [
    "### Minimum variance optimization"
   ]
  },
  {
   "cell_type": "code",
   "execution_count": 31,
   "id": "e82d1c8b",
   "metadata": {},
   "outputs": [],
   "source": [
    "def min_variance_optimizer(returns, rf_rate, cov):\n",
    "    \n",
    "    \"\"\"\n",
    "    returns should be a numpy array with shape (1, number of stocks)\n",
    "    rf_rate should be a float\n",
    "    cov should be a numpy array with shape (number of stocks, number of stocks)\n",
    "    \"\"\"\n",
    "    \n",
    "    # Setup\n",
    "    from scipy.optimize import minimize, Bounds\n",
    "    \n",
    "    # Creating a starting portfolio weight with n_col = 1 and n_row = number of stocks\n",
    "    wt = np.ones((returns.shape[1],1))*(1.0/returns.shape[1])\n",
    "    \n",
    "    # Defining the objective function for the minimization optimization \n",
    "    def obj_func_min_var(wt,cov):\n",
    "        return (wt.T@cov@wt)**0.5\n",
    "    \n",
    "    # Setting variable bounds between 0 and 1 i.e. the optimizer doesnt account for shorting or leveraging\n",
    "    var_bounds = Bounds(0,1)\n",
    "    \n",
    "    # Setting sum of portfolio weights to 1\n",
    "    var_constraints = {'type':'eq',\n",
    "                       'fun': lambda wt: 1.0 - np.sum(wt)\n",
    "                      }\n",
    "    \n",
    "    # calling the minizime function from the scipy package\n",
    "    min_var = minimize(obj_func_min_var,\n",
    "                             wt,\n",
    "                             args=(cov),\n",
    "                             bounds=var_bounds,\n",
    "                             constraints=var_constraints\n",
    "                            )\n",
    "    \n",
    "    min_var_port_wt = np.array([min_var.x])\n",
    "    min_var_expected_return = min_var_port_wt@returns.T\n",
    "    min_var_std_dev = min_var.fun\n",
    "    min_var_sharpe_ratio = (min_var_expected_return-rf_rate)/min_var_std_dev\n",
    "    \n",
    "    print('The optimal weights of the portfolio are:')\n",
    "    print(['{:.2%}'.format(i) for i in min_var_port_wt[0]])\n",
    "    print('Optimal expected return is {:.2%}'.format(min_var_expected_return[0,0]))\n",
    "    print('Optimal std dev is {:.2f}'.format(min_var_std_dev))\n",
    "    print('Optimal sharpe ratio is {:.2f}'.format(min_var_sharpe_ratio[0,0]))\n",
    "    \n",
    "    return min_var_port_wt,min_var_expected_return,min_var_std_dev,min_var_sharpe_ratio"
   ]
  },
  {
   "cell_type": "markdown",
   "id": "af60ebc4",
   "metadata": {},
   "source": [
    "### Running the optimization algorithm"
   ]
  },
  {
   "cell_type": "code",
   "execution_count": 7,
   "id": "cad40be0",
   "metadata": {},
   "outputs": [
    {
     "name": "stdout",
     "output_type": "stream",
     "text": [
      "The optimal weights of the portfolio are:\n",
      "['49.53%', '0.00%', '35.87%', '14.60%']\n",
      "Optimal expected return is 12.84%\n",
      "Optimal std dev is 0.20\n",
      "Optimal sharpe ratio is 0.39\n"
     ]
    },
    {
     "data": {
      "text/plain": [
       "(array([[4.95333293e-01, 3.44776291e-17, 3.58699901e-01, 1.45966806e-01]]),\n",
       " array([[0.12841599]]),\n",
       " array([[0.20083126]]),\n",
       " array([0.39045709]))"
      ]
     },
     "execution_count": 7,
     "metadata": {},
     "output_type": "execute_result"
    }
   ],
   "source": [
    "mean_variance_optimizer(expected_return,rf_rate,covariance_matrix)"
   ]
  },
  {
   "cell_type": "code",
   "execution_count": 8,
   "id": "b01d116b",
   "metadata": {},
   "outputs": [
    {
     "name": "stdout",
     "output_type": "stream",
     "text": [
      "The optimal weights of the portfolio are:\n",
      "['8.47%', '62.90%', '6.61%', '22.02%']\n",
      "Optimal expected return is 7.41%\n",
      "Optimal std dev is 0.12\n",
      "Optimal sharpe ratio is 0.21\n"
     ]
    },
    {
     "data": {
      "text/plain": [
       "(array([[0.08469989, 0.62899404, 0.06613702, 0.22016905]]),\n",
       " array([[0.07408301]]),\n",
       " 0.11703695910587017,\n",
       " array([[0.20577273]]))"
      ]
     },
     "execution_count": 8,
     "metadata": {},
     "output_type": "execute_result"
    }
   ],
   "source": [
    "min_variance_optimizer(expected_return,rf_rate,covariance_matrix)"
   ]
  },
  {
   "cell_type": "markdown",
   "id": "293bff5d",
   "metadata": {},
   "source": [
    "### Testing the functions on data imported from stock returns"
   ]
  },
  {
   "cell_type": "code",
   "execution_count": 9,
   "id": "e0137289",
   "metadata": {},
   "outputs": [],
   "source": [
    "import pandas as pd"
   ]
  },
  {
   "cell_type": "code",
   "execution_count": 11,
   "id": "86cebee3",
   "metadata": {},
   "outputs": [],
   "source": [
    "vangaurd_df = pd.read_csv('vangaurd_funds.csv')"
   ]
  },
  {
   "cell_type": "code",
   "execution_count": 13,
   "id": "e28365fd",
   "metadata": {},
   "outputs": [
    {
     "data": {
      "text/plain": [
       "caldt    0\n",
       "VBINX    0\n",
       "VPACX    0\n",
       "VEURX    0\n",
       "VEIEX    0\n",
       "VFINX    0\n",
       "VEXMX    0\n",
       "VVIAX    0\n",
       "NAESX    0\n",
       "VISVX    0\n",
       "VISGX    0\n",
       "VIMSX    0\n",
       "dtype: int64"
      ]
     },
     "execution_count": 13,
     "metadata": {},
     "output_type": "execute_result"
    }
   ],
   "source": [
    "vangaurd_df.isna().sum()"
   ]
  },
  {
   "cell_type": "code",
   "execution_count": 16,
   "id": "5a05f4b2",
   "metadata": {},
   "outputs": [],
   "source": [
    "vangaurd_df.drop(['caldt'],axis=1, inplace=True)"
   ]
  },
  {
   "cell_type": "code",
   "execution_count": 63,
   "id": "26676266",
   "metadata": {},
   "outputs": [],
   "source": [
    "vangaurd_returns = np.array([vangaurd_df.mean(axis=0).to_numpy()])"
   ]
  },
  {
   "cell_type": "code",
   "execution_count": 28,
   "id": "48f9aeb3",
   "metadata": {},
   "outputs": [],
   "source": [
    "vangaurd_cov = vangaurd_df.cov().to_numpy()"
   ]
  },
  {
   "cell_type": "code",
   "execution_count": 64,
   "id": "1a06e688",
   "metadata": {},
   "outputs": [
    {
     "name": "stdout",
     "output_type": "stream",
     "text": [
      "The optimal weights of the portfolio are:\n",
      "['0.00%', '0.00%', '0.00%', '0.00%', '0.00%', '0.00%', '0.00%', '0.00%', '0.00%', '100.00%', '0.00%']\n",
      "Optimal expected return is 1.09%\n",
      "Optimal std dev is 0.06\n",
      "Optimal sharpe ratio is -0.35\n"
     ]
    }
   ],
   "source": [
    "mean_var_wt, mean_var_ret, mean_var_sd, mean_var_sr = mean_variance_optimizer(vangaurd_returns,rf_rate,vangaurd_cov)"
   ]
  },
  {
   "cell_type": "code",
   "execution_count": 40,
   "id": "162bb91f",
   "metadata": {},
   "outputs": [
    {
     "name": "stdout",
     "output_type": "stream",
     "text": [
      "The optimal weights of the portfolio are:\n",
      "['100.00%', '0.00%', '0.00%', '0.00%', '0.00%', '0.00%', '0.00%', '0.00%', '0.00%', '0.00%', '0.00%']\n",
      "Optimal expected return is 0.73%\n",
      "Optimal std dev is 0.03\n",
      "Optimal sharpe ratio is -0.84\n"
     ]
    }
   ],
   "source": [
    "min_var_wt, min_var_ret, min_var_sd, min_var_sr = min_variance_optimizer(vangaurd_returns,rf_rate,vangaurd_cov)"
   ]
  }
 ],
 "metadata": {
  "kernelspec": {
   "display_name": "Python 3 (ipykernel)",
   "language": "python",
   "name": "python3"
  },
  "language_info": {
   "codemirror_mode": {
    "name": "ipython",
    "version": 3
   },
   "file_extension": ".py",
   "mimetype": "text/x-python",
   "name": "python",
   "nbconvert_exporter": "python",
   "pygments_lexer": "ipython3",
   "version": "3.9.12"
  }
 },
 "nbformat": 4,
 "nbformat_minor": 5
}
