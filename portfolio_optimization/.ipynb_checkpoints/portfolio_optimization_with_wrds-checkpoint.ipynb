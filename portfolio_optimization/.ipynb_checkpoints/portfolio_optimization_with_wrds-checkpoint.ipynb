{
 "cells": [
  {
   "cell_type": "markdown",
   "id": "ee1e46a6",
   "metadata": {},
   "source": [
    "# Portfolio Optimization Using Python\n",
    "\n",
    "We will use the wrds api to get data on mutual funds. Then we will use mean-variance and minimum-variance optimization to construct a portfolio of funds"
   ]
  },
  {
   "cell_type": "markdown",
   "id": "7c8007e5",
   "metadata": {},
   "source": [
    "### Setup"
   ]
  },
  {
   "cell_type": "code",
   "execution_count": 1,
   "id": "3769dfab",
   "metadata": {},
   "outputs": [],
   "source": [
    "# importing all relevant packages and modules\n",
    "import numpy as np\n",
    "import pandas as pd\n",
    "import wrds"
   ]
  },
  {
   "cell_type": "markdown",
   "id": "571ebdda",
   "metadata": {},
   "source": [
    "### Connecting to WRDS and getting the data"
   ]
  },
  {
   "cell_type": "code",
   "execution_count": 2,
   "id": "5f1c3c40",
   "metadata": {},
   "outputs": [
    {
     "name": "stdout",
     "output_type": "stream",
     "text": [
      "Enter your WRDS username [ujjwa]:ujjwalm\n",
      "Enter your password:········\n",
      "WRDS recommends setting up a .pgpass file.\n",
      "Create .pgpass file now [y/n]?: n\n",
      "You can create this file yourself at any time\n",
      "with the create_pgpass_file() function.\n",
      "Loading library list...\n",
      "Done\n"
     ]
    }
   ],
   "source": [
    "while True:\n",
    "    try:\n",
    "        conn = wrds.Connection()\n",
    "    except:\n",
    "        continue\n",
    "    else:\n",
    "        break"
   ]
  },
  {
   "cell_type": "code",
   "execution_count": 3,
   "id": "afc28500",
   "metadata": {},
   "outputs": [],
   "source": [
    "start_date = '2012-12-17'\n",
    "end_date = '2022-12-16'"
   ]
  },
  {
   "cell_type": "code",
   "execution_count": 4,
   "id": "c6765c14",
   "metadata": {},
   "outputs": [
    {
     "data": {
      "text/plain": [
       "\"('VOO','VNQ')\""
      ]
     },
     "execution_count": 4,
     "metadata": {},
     "output_type": "execute_result"
    }
   ],
   "source": [
    "fund_list = ['VOO', 'VNQ']\n",
    "fund_list_str = '(' + ','.join(['\\''+ticker+'\\'' for ticker in fund_list]) + ')'\n",
    "fund_list_str"
   ]
  },
  {
   "cell_type": "code",
   "execution_count": 5,
   "id": "64561ea0",
   "metadata": {},
   "outputs": [
    {
     "data": {
      "text/html": [
       "<div>\n",
       "<style scoped>\n",
       "    .dataframe tbody tr th:only-of-type {\n",
       "        vertical-align: middle;\n",
       "    }\n",
       "\n",
       "    .dataframe tbody tr th {\n",
       "        vertical-align: top;\n",
       "    }\n",
       "\n",
       "    .dataframe thead th {\n",
       "        text-align: right;\n",
       "    }\n",
       "</style>\n",
       "<table border=\"1\" class=\"dataframe\">\n",
       "  <thead>\n",
       "    <tr style=\"text-align: right;\">\n",
       "      <th></th>\n",
       "      <th>nasdaq</th>\n",
       "      <th>crsp_fundno</th>\n",
       "    </tr>\n",
       "  </thead>\n",
       "  <tbody>\n",
       "    <tr>\n",
       "      <th>1</th>\n",
       "      <td>VOO</td>\n",
       "      <td>50485.0</td>\n",
       "    </tr>\n",
       "    <tr>\n",
       "      <th>0</th>\n",
       "      <td>VNQ</td>\n",
       "      <td>31446.0</td>\n",
       "    </tr>\n",
       "  </tbody>\n",
       "</table>\n",
       "</div>"
      ],
      "text/plain": [
       "  nasdaq  crsp_fundno\n",
       "1    VOO      50485.0\n",
       "0    VNQ      31446.0"
      ]
     },
     "execution_count": 5,
     "metadata": {},
     "output_type": "execute_result"
    }
   ],
   "source": [
    "# Get fund numbers for all the funds\n",
    "query_fundno = \\\n",
    "'''\n",
    "SELECT\n",
    "    nasdaq, crsp_fundno\n",
    "FROM\n",
    "    crsp.mfdbname\n",
    "WHERE\n",
    "     nasdaq in ''' + fund_list_str +\\\n",
    "'''\n",
    "GROUP BY\n",
    "    nasdaq, crsp_fundno\n",
    "'''\n",
    "fundno_df = conn.raw_sql(query_fundno)\n",
    "fundno_df['nasdaq'] = pd.Categorical(fundno_df.nasdaq,\n",
    "                                     categories = fund_list,\n",
    "                                     ordered=True\n",
    "                                    )\n",
    "fundno_df = fundno_df.sort_values('nasdaq')\n",
    "fundno_df"
   ]
  },
  {
   "cell_type": "code",
   "execution_count": 6,
   "id": "1055d6a0",
   "metadata": {},
   "outputs": [],
   "source": [
    "fundno_str = '('+ ','.join(list(fundno_df.crsp_fundno.values.astype(str)))+')'"
   ]
  },
  {
   "cell_type": "code",
   "execution_count": 7,
   "id": "1b721f90",
   "metadata": {},
   "outputs": [],
   "source": [
    "query_mret = \\\n",
    "'''\n",
    "SELECT \n",
    "    *\n",
    "FROM\n",
    "    crsp.monthly_returns\n",
    "WHERE\n",
    "    crsp_fundno in ''' + fundno_str + 'and' + \\\n",
    "'''\n",
    "    caldt >= ''' + '\\'' + start_date + '\\'' + 'and\\n    caldt <=' + '\\'' + end_date + '\\'' "
   ]
  },
  {
   "cell_type": "code",
   "execution_count": 8,
   "id": "6f1ccb1d",
   "metadata": {},
   "outputs": [
    {
     "data": {
      "text/html": [
       "<div>\n",
       "<style scoped>\n",
       "    .dataframe tbody tr th:only-of-type {\n",
       "        vertical-align: middle;\n",
       "    }\n",
       "\n",
       "    .dataframe tbody tr th {\n",
       "        vertical-align: top;\n",
       "    }\n",
       "\n",
       "    .dataframe thead th {\n",
       "        text-align: right;\n",
       "    }\n",
       "</style>\n",
       "<table border=\"1\" class=\"dataframe\">\n",
       "  <thead>\n",
       "    <tr style=\"text-align: right;\">\n",
       "      <th></th>\n",
       "      <th>caldt</th>\n",
       "      <th>VOO</th>\n",
       "      <th>VNQ</th>\n",
       "    </tr>\n",
       "  </thead>\n",
       "  <tbody>\n",
       "    <tr>\n",
       "      <th>0</th>\n",
       "      <td>2012-12-31</td>\n",
       "      <td>0.009222</td>\n",
       "      <td>0.037211</td>\n",
       "    </tr>\n",
       "    <tr>\n",
       "      <th>1</th>\n",
       "      <td>2013-01-31</td>\n",
       "      <td>0.051848</td>\n",
       "      <td>0.037240</td>\n",
       "    </tr>\n",
       "    <tr>\n",
       "      <th>2</th>\n",
       "      <td>2013-02-28</td>\n",
       "      <td>0.013417</td>\n",
       "      <td>0.012456</td>\n",
       "    </tr>\n",
       "    <tr>\n",
       "      <th>3</th>\n",
       "      <td>2013-03-28</td>\n",
       "      <td>0.037383</td>\n",
       "      <td>0.028973</td>\n",
       "    </tr>\n",
       "    <tr>\n",
       "      <th>4</th>\n",
       "      <td>2013-04-30</td>\n",
       "      <td>0.019233</td>\n",
       "      <td>0.067045</td>\n",
       "    </tr>\n",
       "    <tr>\n",
       "      <th>...</th>\n",
       "      <td>...</td>\n",
       "      <td>...</td>\n",
       "      <td>...</td>\n",
       "    </tr>\n",
       "    <tr>\n",
       "      <th>113</th>\n",
       "      <td>2022-05-31</td>\n",
       "      <td>0.001795</td>\n",
       "      <td>-0.046124</td>\n",
       "    </tr>\n",
       "    <tr>\n",
       "      <th>114</th>\n",
       "      <td>2022-06-30</td>\n",
       "      <td>-0.082567</td>\n",
       "      <td>-0.075120</td>\n",
       "    </tr>\n",
       "    <tr>\n",
       "      <th>115</th>\n",
       "      <td>2022-07-29</td>\n",
       "      <td>0.092183</td>\n",
       "      <td>0.086656</td>\n",
       "    </tr>\n",
       "    <tr>\n",
       "      <th>116</th>\n",
       "      <td>2022-08-31</td>\n",
       "      <td>-0.040802</td>\n",
       "      <td>-0.060239</td>\n",
       "    </tr>\n",
       "    <tr>\n",
       "      <th>117</th>\n",
       "      <td>2022-09-30</td>\n",
       "      <td>-0.092215</td>\n",
       "      <td>-0.128303</td>\n",
       "    </tr>\n",
       "  </tbody>\n",
       "</table>\n",
       "<p>118 rows × 3 columns</p>\n",
       "</div>"
      ],
      "text/plain": [
       "          caldt       VOO       VNQ\n",
       "0    2012-12-31  0.009222  0.037211\n",
       "1    2013-01-31  0.051848  0.037240\n",
       "2    2013-02-28  0.013417  0.012456\n",
       "3    2013-03-28  0.037383  0.028973\n",
       "4    2013-04-30  0.019233  0.067045\n",
       "..          ...       ...       ...\n",
       "113  2022-05-31  0.001795 -0.046124\n",
       "114  2022-06-30 -0.082567 -0.075120\n",
       "115  2022-07-29  0.092183  0.086656\n",
       "116  2022-08-31 -0.040802 -0.060239\n",
       "117  2022-09-30 -0.092215 -0.128303\n",
       "\n",
       "[118 rows x 3 columns]"
      ]
     },
     "execution_count": 8,
     "metadata": {},
     "output_type": "execute_result"
    }
   ],
   "source": [
    "mret_df = conn.raw_sql(query_mret)\n",
    "mret_df = mret_df.pivot(index = 'caldt', columns = 'crsp_fundno').droplevel(0,axis = 1)\n",
    "column_dict = {fundno_df.crsp_fundno[i]:fundno_df.nasdaq[i] for i in range(len(fundno_df))}\n",
    "mret_df.rename(columns=column_dict, inplace=True)\n",
    "mret_df.reset_index(inplace=True)\n",
    "mret_df = pd.concat([mret_df['caldt'],mret_df[fundno_df.nasdaq]], axis=1)\n",
    "mret_df"
   ]
  },
  {
   "cell_type": "markdown",
   "id": "866971b0",
   "metadata": {},
   "source": [
    "### Setting up data for the portfolio optimization"
   ]
  },
  {
   "cell_type": "code",
   "execution_count": 9,
   "id": "cf974ff4",
   "metadata": {},
   "outputs": [],
   "source": [
    "# Risk free rate\n",
    "rf_rate = 0.03/12 # div by 12, given we are using monthly returns for the calculations"
   ]
  },
  {
   "cell_type": "code",
   "execution_count": 10,
   "id": "2b633808",
   "metadata": {},
   "outputs": [],
   "source": [
    "if mret_df.isna().sum().sum()!=0:\n",
    "    print(mret_df.isna().sum())\n",
    "    mret_df.dropna(inplace=True)"
   ]
  },
  {
   "cell_type": "code",
   "execution_count": 11,
   "id": "fe94cdcd",
   "metadata": {},
   "outputs": [],
   "source": [
    "if 'caldt' in mret_df.columns:\n",
    "    mret_df.drop(['caldt'],axis=1, inplace=True)\n",
    "\n",
    "# a numpy array with shape (1, number of stocks)\n",
    "fund_exp_ret = np.array([mret_df.mean(axis=0).to_numpy()]) \n",
    "\n",
    "# You can also provide your own expected returns\n",
    "#fund_exp_ret = np.array([[0.02, 0.01, 0.01, 0.007]])\n",
    "\n",
    "# a numpy array with shape (number of stocks, number of stocks)\n",
    "fund_cov = mret_df.cov().to_numpy()"
   ]
  },
  {
   "cell_type": "code",
   "execution_count": 12,
   "id": "17381e31",
   "metadata": {},
   "outputs": [
    {
     "data": {
      "text/plain": [
       "['1.04%', '0.64%']"
      ]
     },
     "execution_count": 12,
     "metadata": {},
     "output_type": "execute_result"
    }
   ],
   "source": [
    "['{:.2%}'.format(i) for i in fund_exp_ret[0]]"
   ]
  },
  {
   "cell_type": "code",
   "execution_count": 13,
   "id": "82cdc97c",
   "metadata": {},
   "outputs": [
    {
     "data": {
      "text/plain": [
       "array([[0.00175109, 0.00144084],\n",
       "       [0.00144084, 0.00238176]])"
      ]
     },
     "execution_count": 13,
     "metadata": {},
     "output_type": "execute_result"
    }
   ],
   "source": [
    "fund_cov"
   ]
  },
  {
   "cell_type": "code",
   "execution_count": 14,
   "id": "4738e51a",
   "metadata": {},
   "outputs": [
    {
     "data": {
      "text/html": [
       "<div>\n",
       "<style scoped>\n",
       "    .dataframe tbody tr th:only-of-type {\n",
       "        vertical-align: middle;\n",
       "    }\n",
       "\n",
       "    .dataframe tbody tr th {\n",
       "        vertical-align: top;\n",
       "    }\n",
       "\n",
       "    .dataframe thead th {\n",
       "        text-align: right;\n",
       "    }\n",
       "</style>\n",
       "<table border=\"1\" class=\"dataframe\">\n",
       "  <thead>\n",
       "    <tr style=\"text-align: right;\">\n",
       "      <th></th>\n",
       "      <th>VOO</th>\n",
       "      <th>VNQ</th>\n",
       "    </tr>\n",
       "  </thead>\n",
       "  <tbody>\n",
       "    <tr>\n",
       "      <th>VOO</th>\n",
       "      <td>1.000000</td>\n",
       "      <td>0.705526</td>\n",
       "    </tr>\n",
       "    <tr>\n",
       "      <th>VNQ</th>\n",
       "      <td>0.705526</td>\n",
       "      <td>1.000000</td>\n",
       "    </tr>\n",
       "  </tbody>\n",
       "</table>\n",
       "</div>"
      ],
      "text/plain": [
       "          VOO       VNQ\n",
       "VOO  1.000000  0.705526\n",
       "VNQ  0.705526  1.000000"
      ]
     },
     "execution_count": 14,
     "metadata": {},
     "output_type": "execute_result"
    }
   ],
   "source": [
    "mret_df.corr()"
   ]
  },
  {
   "cell_type": "markdown",
   "id": "8b977ea4",
   "metadata": {},
   "source": [
    "### Mean variance optimizer"
   ]
  },
  {
   "cell_type": "code",
   "execution_count": 19,
   "id": "a0631602",
   "metadata": {},
   "outputs": [],
   "source": [
    "def mean_variance_optimizer(returns, rf_rate, cov):\n",
    "    \n",
    "    \"\"\"\n",
    "    returns should be a numpy array with shape (1, number of stocks)\n",
    "    rf_rate should be a float\n",
    "    cov should be a numpy array with shape (number of stocks, number of stocks)\n",
    "    \"\"\"\n",
    "    \n",
    "    # Setup\n",
    "    from scipy.optimize import minimize, Bounds\n",
    "    \n",
    "    # Creating a starting portfolio weight with n_col = 1 and n_row = number of stocks\n",
    "    wt = np.ones((returns.shape[1],1))*(1.0/returns.shape[1])\n",
    "    \n",
    "    # Defining the objective function for the minimization optimization \n",
    "    def obj_func_mean_variance(wt, returns, rf_rate, cov):\n",
    "        wt_ret = returns@wt - rf_rate\n",
    "        std_dev = (wt.T@cov@wt)**0.5\n",
    "        sharpe_ratio = wt_ret/std_dev\n",
    "        return -sharpe_ratio\n",
    "    \n",
    "    # Setting variable bounds between 0 and 1 i.e. the optimizer doesnt account for shorting or leveraging\n",
    "    var_bounds = Bounds(0,1)\n",
    "    \n",
    "    # Setting sum of portfolio weights to 1\n",
    "    var_constraints = {'type':'eq',\n",
    "                       'fun': lambda wt: 1.0 - np.sum(wt)\n",
    "                      }\n",
    "    \n",
    "    # calling the minizime function from the scipy package\n",
    "    mean_variance = minimize(obj_func_mean_variance,\n",
    "                             wt,\n",
    "                             args=(returns, rf_rate, cov),\n",
    "                             bounds=var_bounds,\n",
    "                             constraints=var_constraints\n",
    "                            )\n",
    "    \n",
    "    optimal_sharpe_ratio = -mean_variance.fun\n",
    "    optimal_port_wt = np.array([mean_variance.x])\n",
    "    optimal_expected_return = optimal_port_wt@returns.T\n",
    "    optimal_std_dev = (optimal_port_wt@cov@optimal_port_wt.T)**0.5\n",
    "    \n",
    "    print('Mean variance optimization results\\n')\n",
    "    print('The optimal weights of the portfolio are:')\n",
    "    print(['{:.2%}'.format(i) for i in optimal_port_wt[0]])\n",
    "    print('Optimal expected return is {:.2%}'.format(optimal_expected_return[0,0]))\n",
    "    print('Optimal std dev is {:.2f}'.format(optimal_std_dev[0,0]))\n",
    "    print('Optimal sharpe ratio is {:.2f}'.format(optimal_sharpe_ratio[0]))\n",
    "    \n",
    "    return optimal_port_wt, optimal_expected_return, optimal_std_dev, optimal_sharpe_ratio"
   ]
  },
  {
   "cell_type": "markdown",
   "id": "e35b26b0",
   "metadata": {},
   "source": [
    "### Minimum variance optimization"
   ]
  },
  {
   "cell_type": "code",
   "execution_count": 20,
   "id": "e82d1c8b",
   "metadata": {},
   "outputs": [],
   "source": [
    "def min_variance_optimizer(returns, rf_rate, cov):\n",
    "    \n",
    "    \"\"\"\n",
    "    returns should be a numpy array with shape (1, number of stocks)\n",
    "    rf_rate should be a float\n",
    "    cov should be a numpy array with shape (number of stocks, number of stocks)\n",
    "    \"\"\"\n",
    "    \n",
    "    # Setup\n",
    "    from scipy.optimize import minimize, Bounds\n",
    "    \n",
    "    # Creating a starting portfolio weight with n_col = 1 and n_row = number of stocks\n",
    "    wt = np.ones((returns.shape[1],1))*(1.0/returns.shape[1])\n",
    "    \n",
    "    # Defining the objective function for the minimization optimization \n",
    "    def obj_func_min_var(wt,cov):\n",
    "        return (wt.T@cov@wt)**0.5\n",
    "    \n",
    "    # Setting variable bounds between 0 and 1 i.e. the optimizer doesnt account for shorting or leveraging\n",
    "    var_bounds = Bounds(0,1)\n",
    "    \n",
    "    # Setting sum of portfolio weights to 1\n",
    "    var_constraints = {'type':'eq',\n",
    "                       'fun': lambda wt: 1.0 - np.sum(wt)\n",
    "                      }\n",
    "    \n",
    "    # calling the minizime function from the scipy package\n",
    "    min_var = minimize(obj_func_min_var,\n",
    "                             wt,\n",
    "                             args=(cov),\n",
    "                             bounds=var_bounds,\n",
    "                             constraints=var_constraints\n",
    "                            )\n",
    "    \n",
    "    min_var_port_wt = np.array([min_var.x])\n",
    "    min_var_expected_return = min_var_port_wt@returns.T\n",
    "    min_var_std_dev = min_var.fun\n",
    "    min_var_sharpe_ratio = (min_var_expected_return-rf_rate)/min_var_std_dev\n",
    "    \n",
    "    print('Minimum variance optimization results\\n')\n",
    "    print('The optimal weights of the portfolio are:')\n",
    "    print(['{:.2%}'.format(i) for i in min_var_port_wt[0]])\n",
    "    print('Optimal expected return is {:.2%}'.format(min_var_expected_return[0,0]))\n",
    "    print('Optimal std dev is {:.2f}'.format(min_var_std_dev))\n",
    "    print('Optimal sharpe ratio is {:.2f}'.format(min_var_sharpe_ratio[0,0]))\n",
    "    \n",
    "    return min_var_port_wt,min_var_expected_return,min_var_std_dev,min_var_sharpe_ratio"
   ]
  },
  {
   "cell_type": "markdown",
   "id": "af60ebc4",
   "metadata": {},
   "source": [
    "### Running the optimization algorithm"
   ]
  },
  {
   "cell_type": "code",
   "execution_count": 21,
   "id": "cad40be0",
   "metadata": {},
   "outputs": [
    {
     "name": "stdout",
     "output_type": "stream",
     "text": [
      "Mean variance optimization results\n",
      "\n",
      "The optimal weights of the portfolio are:\n",
      "['100.00%', '0.00%']\n",
      "Optimal expected return is 1.04%\n",
      "Optimal std dev is 0.04\n",
      "Optimal sharpe ratio is 0.19\n"
     ]
    }
   ],
   "source": [
    "mean_var_wt, mean_var_ret, mean_var_sd, mean_var_sr = mean_variance_optimizer(fund_exp_ret,rf_rate,fund_cov)"
   ]
  },
  {
   "cell_type": "code",
   "execution_count": 22,
   "id": "b01d116b",
   "metadata": {},
   "outputs": [
    {
     "name": "stdout",
     "output_type": "stream",
     "text": [
      "Minimum variance optimization results\n",
      "\n",
      "The optimal weights of the portfolio are:\n",
      "['75.66%', '24.34%']\n",
      "Optimal expected return is 0.94%\n",
      "Optimal std dev is 0.04\n",
      "Optimal sharpe ratio is 0.17\n"
     ]
    }
   ],
   "source": [
    "min_var_wt, min_var_ret, min_var_sd, min_var_sr = min_variance_optimizer(fund_exp_ret,rf_rate,fund_cov)"
   ]
  }
 ],
 "metadata": {
  "kernelspec": {
   "display_name": "Python 3 (ipykernel)",
   "language": "python",
   "name": "python3"
  },
  "language_info": {
   "codemirror_mode": {
    "name": "ipython",
    "version": 3
   },
   "file_extension": ".py",
   "mimetype": "text/x-python",
   "name": "python",
   "nbconvert_exporter": "python",
   "pygments_lexer": "ipython3",
   "version": "3.9.12"
  }
 },
 "nbformat": 4,
 "nbformat_minor": 5
}
